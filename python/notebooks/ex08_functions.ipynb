{
 "cells": [
  {
   "cell_type": "markdown",
   "metadata": {},
   "source": [
    "# Exercise 8: Functions"
   ]
  },
  {
   "cell_type": "markdown",
   "metadata": {},
   "source": [
    "## Aim: Introduce writing and calling functions.\n",
    "\n",
    "### Issues covered:\n",
    " - Writing a simple function\n",
    " - Indenting code within a function\n",
    " - Sending arguments to functions\n",
    " - Calling functions\n",
    " - Checking arguments in functions"
   ]
  },
  {
   "cell_type": "markdown",
   "metadata": {},
   "source": [
    "## 1. Let's create a simple function."
   ]
  },
  {
   "cell_type": "markdown",
   "metadata": {},
   "source": [
    "Use the `def` statement to define a function called `double_it`."
   ]
  },
  {
   "cell_type": "markdown",
   "metadata": {},
   "source": [
    "The function should take one argument called `number`."
   ]
  },
  {
   "cell_type": "markdown",
   "metadata": {},
   "source": [
    "It should return double the `number` argument."
   ]
  },
  {
   "cell_type": "code",
   "execution_count": 2,
   "metadata": {},
   "outputs": [],
   "source": [
    "def double_it(number):\n",
    "    return 2*number"
   ]
  },
  {
   "cell_type": "markdown",
   "metadata": {},
   "source": [
    "Test the function by calling it with an integer and then a float."
   ]
  },
  {
   "cell_type": "code",
   "execution_count": 6,
   "metadata": {},
   "outputs": [
    {
     "name": "stdout",
     "output_type": "stream",
     "text": [
      "4\n",
      "5.0\n"
     ]
    }
   ],
   "source": [
    "print(double_it(2))\n",
    "print(double_it(2.5))"
   ]
  },
  {
   "cell_type": "markdown",
   "metadata": {},
   "source": [
    "What happens if you send it a string rather than a number?"
   ]
  },
  {
   "cell_type": "code",
   "execution_count": 8,
   "metadata": {},
   "outputs": [
    {
     "name": "stdout",
     "output_type": "stream",
     "text": [
      "hello!hello!\n"
     ]
    }
   ],
   "source": [
    "print(double_it(\"hello!\"))"
   ]
  },
  {
   "cell_type": "markdown",
   "metadata": {},
   "source": [
    "## 2. Let's write a simple function to calculate the length of the hypotenuse of a right-angled triangle given the length of the other sides (called \"a\" and \"b\")."
   ]
  },
  {
   "cell_type": "markdown",
   "metadata": {},
   "source": [
    "Use the `def` statement to define a function called `calc_hypo` that takes two arguments: `a` and `b`."
   ]
  },
  {
   "cell_type": "markdown",
   "metadata": {},
   "source": [
    "Inside the function, calculate the length of the hypotenuse and assign it to a variable called `hypo`."
   ]
  },
  {
   "cell_type": "markdown",
   "metadata": {},
   "source": [
    "Return the value of `hypo`."
   ]
  },
  {
   "cell_type": "code",
   "execution_count": 16,
   "metadata": {},
   "outputs": [],
   "source": [
    "def calc_hyp(a,b):\n",
    "    hypo=a**2+b**2\n",
    "    hypo=hypo**0.5\n",
    "    return hypo"
   ]
  },
  {
   "cell_type": "markdown",
   "metadata": {},
   "source": [
    "Test out the function by calling it with values (3, 4)."
   ]
  },
  {
   "cell_type": "code",
   "execution_count": 17,
   "metadata": {},
   "outputs": [
    {
     "data": {
      "text/plain": [
       "5.0"
      ]
     },
     "execution_count": 17,
     "metadata": {},
     "output_type": "execute_result"
    }
   ],
   "source": [
    "calc_hyp(3,4)"
   ]
  },
  {
   "cell_type": "markdown",
   "metadata": {},
   "source": [
    "## 3. Let's improve the function above by adding some checks into the code."
   ]
  },
  {
   "cell_type": "markdown",
   "metadata": {},
   "source": [
    "Add a check on the arguments to make sure are of type `float` or `int`."
   ]
  },
  {
   "cell_type": "markdown",
   "metadata": {},
   "source": [
    "Add a check on the arguments to make sure they are greater than zero."
   ]
  },
  {
   "cell_type": "markdown",
   "metadata": {},
   "source": [
    "If any argument fails the checks: print `\"Bad argument\"` and return `False`."
   ]
  },
  {
   "cell_type": "code",
   "execution_count": 18,
   "metadata": {},
   "outputs": [],
   "source": [
    "def calc_hyp(a,b):\n",
    "    if type(a) != int:\n",
    "        print(\"Bad argument\")\n",
    "        return False\n",
    "    if type(b) != int:\n",
    "        print(\"Bad argument\")\n",
    "        return False\n",
    "    else:\n",
    "        hypo=a**2+b**2\n",
    "        hypo=hypo**0.5\n",
    "        return hypo"
   ]
  },
  {
   "cell_type": "markdown",
   "metadata": {},
   "source": [
    "Call the function with different arguments to test that the checks are working."
   ]
  },
  {
   "cell_type": "code",
   "execution_count": 22,
   "metadata": {},
   "outputs": [
    {
     "name": "stdout",
     "output_type": "stream",
     "text": [
      "5.0\n",
      "Bad argument\n",
      "False\n",
      "Bad argument\n",
      "False\n"
     ]
    }
   ],
   "source": [
    "print(calc_hyp(3,4))\n",
    "print(calc_hyp(\"hello\",4))\n",
    "print(calc_hyp(3,\"500\"))"
   ]
  },
  {
   "cell_type": "code",
   "execution_count": null,
   "metadata": {},
   "outputs": [],
   "source": []
  }
 ],
 "metadata": {
  "kernelspec": {
   "display_name": "Python 3 + Jaspy",
   "language": "python",
   "name": "jaspy"
  },
  "language_info": {
   "codemirror_mode": {
    "name": "ipython",
    "version": 3
   },
   "file_extension": ".py",
   "mimetype": "text/x-python",
   "name": "python",
   "nbconvert_exporter": "python",
   "pygments_lexer": "ipython3",
   "version": "3.8.12"
  }
 },
 "nbformat": 4,
 "nbformat_minor": 4
}
